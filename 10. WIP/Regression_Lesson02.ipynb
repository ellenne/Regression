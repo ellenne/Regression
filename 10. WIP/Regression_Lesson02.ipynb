{
  "nbformat": 4,
  "nbformat_minor": 0,
  "metadata": {
    "colab": {
      "name": "Regression_Lesson02.ipynb",
      "version": "0.3.2",
      "provenance": [],
      "collapsed_sections": [],
      "include_colab_link": true
    },
    "kernelspec": {
      "name": "python3",
      "display_name": "Python 3"
    }
  },
  "cells": [
    {
      "cell_type": "markdown",
      "metadata": {
        "id": "view-in-github",
        "colab_type": "text"
      },
      "source": [
        "<a href=\"https://colab.research.google.com/github/ellenne/Regression/blob/master/10.%20WIP/Regression_Lesson02.ipynb\" target=\"_parent\"><img src=\"https://colab.research.google.com/assets/colab-badge.svg\" alt=\"Open In Colab\"/></a>"
      ]
    },
    {
      "metadata": {
        "id": "Kqhd6KXi2oUh",
        "colab_type": "text"
      },
      "cell_type": "markdown",
      "source": [
        "*Source:*<br/>\n",
        "https://newonlinecourses.science.psu.edu/stat501/node/251/"
      ]
    },
    {
      "metadata": {
        "id": "-h06FAmv2ACW",
        "colab_type": "code",
        "colab": {}
      },
      "cell_type": "code",
      "source": [
        "import pandas as pd\n",
        "import matplotlib.pyplot as plt\n",
        "from matplotlib.gridspec import GridSpec\n",
        "import seaborn as sns\n",
        "import numpy as np\n",
        "import scipy.stats as stats\n",
        "import statsmodels.formula.api as smf\n",
        "import statsmodels.api as sm\n",
        "from sklearn.utils import check_array\n",
        "import warnings"
      ],
      "execution_count": 0,
      "outputs": []
    },
    {
      "metadata": {
        "id": "A35ssXtI2W5y",
        "colab_type": "code",
        "colab": {}
      },
      "cell_type": "code",
      "source": [
        "# Definitions\n",
        "warnings.filterwarnings('ignore')\n",
        "pd.set_option('display.float_format', lambda x: '%.3f' % x)\n",
        "%matplotlib inline"
      ],
      "execution_count": 0,
      "outputs": []
    },
    {
      "metadata": {
        "id": "a1UXtOE02ZzP",
        "colab_type": "code",
        "colab": {
          "base_uri": "https://localhost:8080/",
          "height": 206
        },
        "outputId": "f5628547-2395-4461-b9cc-5e8d69c792d4"
      },
      "cell_type": "code",
      "source": [
        "skincancer_url = 'https://raw.githubusercontent.com/ellenne/Regression/master/05.%20In/skincancer.csv'\n",
        "my_data = pd.read_csv(skincancer_url)\n",
        "my_data.head()"
      ],
      "execution_count": 10,
      "outputs": [
        {
          "output_type": "execute_result",
          "data": {
            "text/html": [
              "<div>\n",
              "<style scoped>\n",
              "    .dataframe tbody tr th:only-of-type {\n",
              "        vertical-align: middle;\n",
              "    }\n",
              "\n",
              "    .dataframe tbody tr th {\n",
              "        vertical-align: top;\n",
              "    }\n",
              "\n",
              "    .dataframe thead th {\n",
              "        text-align: right;\n",
              "    }\n",
              "</style>\n",
              "<table border=\"1\" class=\"dataframe\">\n",
              "  <thead>\n",
              "    <tr style=\"text-align: right;\">\n",
              "      <th></th>\n",
              "      <th>State</th>\n",
              "      <th>Lat</th>\n",
              "      <th>Mort</th>\n",
              "      <th>Ocean</th>\n",
              "      <th>Long</th>\n",
              "    </tr>\n",
              "  </thead>\n",
              "  <tbody>\n",
              "    <tr>\n",
              "      <th>0</th>\n",
              "      <td>Alabama</td>\n",
              "      <td>33.000</td>\n",
              "      <td>219</td>\n",
              "      <td>1</td>\n",
              "      <td>87.000</td>\n",
              "    </tr>\n",
              "    <tr>\n",
              "      <th>1</th>\n",
              "      <td>Arizona</td>\n",
              "      <td>34.500</td>\n",
              "      <td>160</td>\n",
              "      <td>0</td>\n",
              "      <td>112.000</td>\n",
              "    </tr>\n",
              "    <tr>\n",
              "      <th>2</th>\n",
              "      <td>Arkansas</td>\n",
              "      <td>35.000</td>\n",
              "      <td>170</td>\n",
              "      <td>0</td>\n",
              "      <td>92.500</td>\n",
              "    </tr>\n",
              "    <tr>\n",
              "      <th>3</th>\n",
              "      <td>California</td>\n",
              "      <td>37.500</td>\n",
              "      <td>182</td>\n",
              "      <td>1</td>\n",
              "      <td>119.500</td>\n",
              "    </tr>\n",
              "    <tr>\n",
              "      <th>4</th>\n",
              "      <td>Colorado</td>\n",
              "      <td>39.000</td>\n",
              "      <td>149</td>\n",
              "      <td>0</td>\n",
              "      <td>105.500</td>\n",
              "    </tr>\n",
              "  </tbody>\n",
              "</table>\n",
              "</div>"
            ],
            "text/plain": [
              "        State    Lat  Mort  Ocean    Long\n",
              "0     Alabama 33.000   219      1  87.000\n",
              "1     Arizona 34.500   160      0 112.000\n",
              "2    Arkansas 35.000   170      0  92.500\n",
              "3  California 37.500   182      1 119.500\n",
              "4    Colorado 39.000   149      0 105.500"
            ]
          },
          "metadata": {
            "tags": []
          },
          "execution_count": 10
        }
      ]
    },
    {
      "metadata": {
        "id": "_kZPrGRr6pTn",
        "colab_type": "code",
        "colab": {
          "base_uri": "https://localhost:8080/",
          "height": 471
        },
        "outputId": "66581e19-b169-4271-f20c-4309cd55df46"
      },
      "cell_type": "code",
      "source": [
        "model = smf.ols(formula = 'Mort ~ Lat', data = my_data)\n",
        "fitted = model.fit()\n",
        "print (fitted.summary())"
      ],
      "execution_count": 11,
      "outputs": [
        {
          "output_type": "stream",
          "text": [
            "                            OLS Regression Results                            \n",
            "==============================================================================\n",
            "Dep. Variable:                   Mort   R-squared:                       0.680\n",
            "Model:                            OLS   Adj. R-squared:                  0.673\n",
            "Method:                 Least Squares   F-statistic:                     99.80\n",
            "Date:                Mon, 29 Apr 2019   Prob (F-statistic):           3.31e-13\n",
            "Time:                        11:46:39   Log-Likelihood:                -213.08\n",
            "No. Observations:                  49   AIC:                             430.2\n",
            "Df Residuals:                      47   BIC:                             433.9\n",
            "Df Model:                           1                                         \n",
            "Covariance Type:            nonrobust                                         \n",
            "==============================================================================\n",
            "                 coef    std err          t      P>|t|      [0.025      0.975]\n",
            "------------------------------------------------------------------------------\n",
            "Intercept    389.1894     23.812     16.344      0.000     341.285     437.094\n",
            "Lat           -5.9776      0.598     -9.990      0.000      -7.181      -4.774\n",
            "==============================================================================\n",
            "Omnibus:                        0.740   Durbin-Watson:                   2.131\n",
            "Prob(Omnibus):                  0.691   Jarque-Bera (JB):                0.773\n",
            "Skew:                           0.094   Prob(JB):                        0.679\n",
            "Kurtosis:                       2.414   Cond. No.                         347.\n",
            "==============================================================================\n",
            "\n",
            "Warnings:\n",
            "[1] Standard Errors assume that the covariance matrix of the errors is correctly specified.\n"
          ],
          "name": "stdout"
        }
      ]
    },
    {
      "metadata": {
        "id": "_9Em0duc6y6Z",
        "colab_type": "code",
        "colab": {
          "base_uri": "https://localhost:8080/",
          "height": 291
        },
        "outputId": "f0f98a74-c92d-4687-97d4-28d761cdfd5a"
      },
      "cell_type": "code",
      "source": [
        "sns.set(color_codes=True)\n",
        "ax = sns.regplot(x=\"Lat\", y=\"Mort\", data=my_data)"
      ],
      "execution_count": 12,
      "outputs": [
        {
          "output_type": "display_data",
          "data": {
            "image/png": "[encoded data removed]",
            "text/plain": [
              "<Figure size 432x288 with 1 Axes>"
            ]
          },
          "metadata": {
            "tags": []
          }
        }
      ]
    },
    {
      "metadata": {
        "id": "bHKrpLeA1s3g",
        "colab_type": "code",
        "colab": {
          "base_uri": "https://localhost:8080/",
          "height": 112
        },
        "outputId": "3bd4b02b-81ce-4e5e-ccc0-bfeb63a6a808"
      },
      "cell_type": "code",
      "source": [
        "aov_table = sm.stats.anova_lm(fitted, typ=2)\n",
        "aov_table"
      ],
      "execution_count": 17,
      "outputs": [
        {
          "output_type": "execute_result",
          "data": {
            "text/html": [
              "<div>\n",
              "<style scoped>\n",
              "    .dataframe tbody tr th:only-of-type {\n",
              "        vertical-align: middle;\n",
              "    }\n",
              "\n",
              "    .dataframe tbody tr th {\n",
              "        vertical-align: top;\n",
              "    }\n",
              "\n",
              "    .dataframe thead th {\n",
              "        text-align: right;\n",
              "    }\n",
              "</style>\n",
              "<table border=\"1\" class=\"dataframe\">\n",
              "  <thead>\n",
              "    <tr style=\"text-align: right;\">\n",
              "      <th></th>\n",
              "      <th>sum_sq</th>\n",
              "      <th>df</th>\n",
              "      <th>F</th>\n",
              "      <th>PR(&gt;F)</th>\n",
              "    </tr>\n",
              "  </thead>\n",
              "  <tbody>\n",
              "    <tr>\n",
              "      <th>Lat</th>\n",
              "      <td>36464.200</td>\n",
              "      <td>1.000</td>\n",
              "      <td>99.797</td>\n",
              "      <td>0.000</td>\n",
              "    </tr>\n",
              "    <tr>\n",
              "      <th>Residual</th>\n",
              "      <td>17173.065</td>\n",
              "      <td>47.000</td>\n",
              "      <td>nan</td>\n",
              "      <td>nan</td>\n",
              "    </tr>\n",
              "  </tbody>\n",
              "</table>\n",
              "</div>"
            ],
            "text/plain": [
              "            sum_sq     df      F  PR(>F)\n",
              "Lat      36464.200  1.000 99.797   0.000\n",
              "Residual 17173.065 47.000    nan     nan"
            ]
          },
          "metadata": {
            "tags": []
          },
          "execution_count": 17
        }
      ]
    },
    {
      "metadata": {
        "id": "DIeseK4b9cay",
        "colab_type": "text"
      },
      "cell_type": "markdown",
      "source": [
        "We are interested in understanding if there is a relationship between the population of all of the latidues and skin cancer mortality rates. <br/>\n",
        "We want to know if $\\beta_1$ is different from 0. We calculate the following statistics:<br/>\n",
        "$b_1 \\pm t_{(\\alpha/2, n-2)} \\times \\left( \\frac{\\sqrt{MSE}}{\\sqrt{\\sum{(x_i - \\bar{x_i})^2}}} \\right)  $"
      ]
    },
    {
      "metadata": {
        "id": "UkzYHFXN3hl7",
        "colab_type": "text"
      },
      "cell_type": "markdown",
      "source": [
        "<p>Looking at what Python gives us we can see that the predictor for `Lat` is -5.9776 (OLS Regression Result under coef). The estimated standard error for $b_1$ is 0.5984 (std err in the same section).<br/>\n",
        "<p>By default, the test statistic is calculated assuming the user wants to test that the slope is 0. Dividing the estimated coefficient -5.9776 by the standard error 0.5984 we obtain the T statistic -9.99 (under t in the OLS).<br/>\n",
        "  <p>The P-value is calculated assuming the alternative hypothesis is a \"two-tailed, not-equal-to\" hypothesis. Then it is calculated the probability that a t-random variable with n-2 = 47 degrees of freedom (see the aov_table below) would be larger than 9.99, and multiplying the probability by 2, Python reports that P is 0.000. This means that the P-value is less than 0.001 (the multiplication by 2 happens because it is a two-tailed test).<br/>\n",
        "<p>Becuse the P-value is small (less than 0.001), we can reject the null hypothesis and conclude that $\\beta_1$ does not equal 0. There is a sufficient evidence, at the $\\alpha = 0.05$ level, to conclude that there is a linear relationship in the population between skin cancer mortality and latitude.<br/><br/>\n",
        " \n",
        "Let's build now a 95% confidence interval for $\\beta_1$\n"
      ]
    },
    {
      "metadata": {
        "id": "3i4R2umf7Jgd",
        "colab_type": "code",
        "colab": {
          "base_uri": "https://localhost:8080/",
          "height": 112
        },
        "outputId": "32b8c2f6-382b-4ccb-9043-e4b2251460a8"
      },
      "cell_type": "code",
      "source": [
        "fitted.conf_int(0.05)   # 95% confidence interval"
      ],
      "execution_count": 18,
      "outputs": [
        {
          "output_type": "execute_result",
          "data": {
            "text/html": [
              "<div>\n",
              "<style scoped>\n",
              "    .dataframe tbody tr th:only-of-type {\n",
              "        vertical-align: middle;\n",
              "    }\n",
              "\n",
              "    .dataframe tbody tr th {\n",
              "        vertical-align: top;\n",
              "    }\n",
              "\n",
              "    .dataframe thead th {\n",
              "        text-align: right;\n",
              "    }\n",
              "</style>\n",
              "<table border=\"1\" class=\"dataframe\">\n",
              "  <thead>\n",
              "    <tr style=\"text-align: right;\">\n",
              "      <th></th>\n",
              "      <th>0</th>\n",
              "      <th>1</th>\n",
              "    </tr>\n",
              "  </thead>\n",
              "  <tbody>\n",
              "    <tr>\n",
              "      <th>Intercept</th>\n",
              "      <td>341.285</td>\n",
              "      <td>437.094</td>\n",
              "    </tr>\n",
              "    <tr>\n",
              "      <th>Lat</th>\n",
              "      <td>-7.181</td>\n",
              "      <td>-4.774</td>\n",
              "    </tr>\n",
              "  </tbody>\n",
              "</table>\n",
              "</div>"
            ],
            "text/plain": [
              "                0       1\n",
              "Intercept 341.285 437.094\n",
              "Lat        -7.181  -4.774"
            ]
          },
          "metadata": {
            "tags": []
          },
          "execution_count": 18
        }
      ]
    },
    {
      "metadata": {
        "id": "Z0AIpQz67aeN",
        "colab_type": "text"
      },
      "cell_type": "markdown",
      "source": [
        "<p>We can be 95% confident that the population slope is between -7.2 and -4.8. That i, we can be 95% confident that for every additional one-degree increase in latitude, the mean skin cancer mortality rate decreases between 4.8 and 7.2 deaths per 10 million people.<br/>\n",
        "  <p>Similar thing can be said for the intercept. In this case it is different from 0 therefore when x=0 the response it is different from 0. Not in all cases this scenario makes sense.<br/>\n",
        " \n",
        "<p>  **Statistical inference conditions**<br/>\n",
        " The above confidence intervals for $\\beta_0 and \\beta_1$ can be used if the *LINE* assumptions hold - linearity, independence, normality and equal variance - "
      ]
    },
    {
      "metadata": {
        "id": "agwOWrJFApYO",
        "colab_type": "code",
        "colab": {}
      },
      "cell_type": "code",
      "source": [
        ""
      ],
      "execution_count": 0,
      "outputs": []
    }
  ]
}