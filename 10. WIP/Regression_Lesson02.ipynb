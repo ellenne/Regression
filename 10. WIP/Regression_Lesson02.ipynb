{
  "nbformat": 4,
  "nbformat_minor": 0,
  "metadata": {
    "colab": {
      "name": "Regression_Lesson02.ipynb",
      "version": "0.3.2",
      "provenance": [],
      "collapsed_sections": [],
      "include_colab_link": true
    },
    "kernelspec": {
      "name": "python3",
      "display_name": "Python 3"
    }
  },
  "cells": [
    {
      "cell_type": "markdown",
      "metadata": {
        "id": "view-in-github",
        "colab_type": "text"
      },
      "source": [
        "<a href=\"https://colab.research.google.com/github/ellenne/Regression/blob/master/10.%20WIP/Regression_Lesson02.ipynb\" target=\"_parent\"><img src=\"https://colab.research.google.com/assets/colab-badge.svg\" alt=\"Open In Colab\"/></a>"
      ]
    },
    {
      "cell_type": "markdown",
      "metadata": {
        "id": "Kqhd6KXi2oUh",
        "colab_type": "text"
      },
      "source": [
        "*Source:*<br/>\n",
        "https://newonlinecourses.science.psu.edu/stat501/node/251/"
      ]
    },
    {
      "cell_type": "code",
      "metadata": {
        "id": "-h06FAmv2ACW",
        "colab_type": "code",
        "colab": {}
      },
      "source": [
        "import pandas as pd\n",
        "import matplotlib.pyplot as plt\n",
        "from matplotlib.gridspec import GridSpec\n",
        "import seaborn as sns\n",
        "import numpy as np\n",
        "import scipy.stats as stats\n",
        "import statsmodels.formula.api as smf\n",
        "import statsmodels.api as sm\n",
        "from sklearn.utils import check_array\n",
        "import warnings"
      ],
      "execution_count": 0,
      "outputs": []
    },
    {
      "cell_type": "code",
      "metadata": {
        "id": "A35ssXtI2W5y",
        "colab_type": "code",
        "colab": {}
      },
      "source": [
        "# Definitions\n",
        "warnings.filterwarnings('ignore')\n",
        "pd.set_option('display.float_format', lambda x: '%.3f' % x)\n",
        "%matplotlib inline"
      ],
      "execution_count": 0,
      "outputs": []
    },
    {
      "cell_type": "code",
      "metadata": {
        "id": "a1UXtOE02ZzP",
        "colab_type": "code",
        "outputId": "dea79551-a964-41c7-a4b6-a0308051804f",
        "colab": {
          "base_uri": "https://localhost:8080/",
          "height": 206
        }
      },
      "source": [
        "skincancer_url = 'https://raw.githubusercontent.com/ellenne/Regression/master/05.%20In/skincancer.csv'\n",
        "my_data = pd.read_csv(skincancer_url)\n",
        "my_data.head()"
      ],
      "execution_count": 3,
      "outputs": [
        {
          "output_type": "execute_result",
          "data": {
            "text/html": [
              "<div>\n",
              "<style scoped>\n",
              "    .dataframe tbody tr th:only-of-type {\n",
              "        vertical-align: middle;\n",
              "    }\n",
              "\n",
              "    .dataframe tbody tr th {\n",
              "        vertical-align: top;\n",
              "    }\n",
              "\n",
              "    .dataframe thead th {\n",
              "        text-align: right;\n",
              "    }\n",
              "</style>\n",
              "<table border=\"1\" class=\"dataframe\">\n",
              "  <thead>\n",
              "    <tr style=\"text-align: right;\">\n",
              "      <th></th>\n",
              "      <th>State</th>\n",
              "      <th>Lat</th>\n",
              "      <th>Mort</th>\n",
              "      <th>Ocean</th>\n",
              "      <th>Long</th>\n",
              "    </tr>\n",
              "  </thead>\n",
              "  <tbody>\n",
              "    <tr>\n",
              "      <th>0</th>\n",
              "      <td>Alabama</td>\n",
              "      <td>33.000</td>\n",
              "      <td>219</td>\n",
              "      <td>1</td>\n",
              "      <td>87.000</td>\n",
              "    </tr>\n",
              "    <tr>\n",
              "      <th>1</th>\n",
              "      <td>Arizona</td>\n",
              "      <td>34.500</td>\n",
              "      <td>160</td>\n",
              "      <td>0</td>\n",
              "      <td>112.000</td>\n",
              "    </tr>\n",
              "    <tr>\n",
              "      <th>2</th>\n",
              "      <td>Arkansas</td>\n",
              "      <td>35.000</td>\n",
              "      <td>170</td>\n",
              "      <td>0</td>\n",
              "      <td>92.500</td>\n",
              "    </tr>\n",
              "    <tr>\n",
              "      <th>3</th>\n",
              "      <td>California</td>\n",
              "      <td>37.500</td>\n",
              "      <td>182</td>\n",
              "      <td>1</td>\n",
              "      <td>119.500</td>\n",
              "    </tr>\n",
              "    <tr>\n",
              "      <th>4</th>\n",
              "      <td>Colorado</td>\n",
              "      <td>39.000</td>\n",
              "      <td>149</td>\n",
              "      <td>0</td>\n",
              "      <td>105.500</td>\n",
              "    </tr>\n",
              "  </tbody>\n",
              "</table>\n",
              "</div>"
            ],
            "text/plain": [
              "        State    Lat  Mort  Ocean    Long\n",
              "0     Alabama 33.000   219      1  87.000\n",
              "1     Arizona 34.500   160      0 112.000\n",
              "2    Arkansas 35.000   170      0  92.500\n",
              "3  California 37.500   182      1 119.500\n",
              "4    Colorado 39.000   149      0 105.500"
            ]
          },
          "metadata": {
            "tags": []
          },
          "execution_count": 3
        }
      ]
    },
    {
      "cell_type": "code",
      "metadata": {
        "id": "_kZPrGRr6pTn",
        "colab_type": "code",
        "outputId": "dfdc3501-ee33-40cd-ac15-2726734fe774",
        "colab": {
          "base_uri": "https://localhost:8080/",
          "height": 482
        }
      },
      "source": [
        "model = smf.ols(formula = 'Mort ~ Lat', data = my_data)\n",
        "fitted = model.fit()\n",
        "print (fitted.summary())"
      ],
      "execution_count": 4,
      "outputs": [
        {
          "output_type": "stream",
          "text": [
            "                            OLS Regression Results                            \n",
            "==============================================================================\n",
            "Dep. Variable:                   Mort   R-squared:                       0.680\n",
            "Model:                            OLS   Adj. R-squared:                  0.673\n",
            "Method:                 Least Squares   F-statistic:                     99.80\n",
            "Date:                Mon, 06 May 2019   Prob (F-statistic):           3.31e-13\n",
            "Time:                        15:54:33   Log-Likelihood:                -213.08\n",
            "No. Observations:                  49   AIC:                             430.2\n",
            "Df Residuals:                      47   BIC:                             433.9\n",
            "Df Model:                           1                                         \n",
            "Covariance Type:            nonrobust                                         \n",
            "==============================================================================\n",
            "                 coef    std err          t      P>|t|      [0.025      0.975]\n",
            "------------------------------------------------------------------------------\n",
            "Intercept    389.1894     23.812     16.344      0.000     341.285     437.094\n",
            "Lat           -5.9776      0.598     -9.990      0.000      -7.181      -4.774\n",
            "==============================================================================\n",
            "Omnibus:                        0.740   Durbin-Watson:                   2.131\n",
            "Prob(Omnibus):                  0.691   Jarque-Bera (JB):                0.773\n",
            "Skew:                           0.094   Prob(JB):                        0.679\n",
            "Kurtosis:                       2.414   Cond. No.                         347.\n",
            "==============================================================================\n",
            "\n",
            "Warnings:\n",
            "[1] Standard Errors assume that the covariance matrix of the errors is correctly specified.\n"
          ],
          "name": "stdout"
        }
      ]
    },
    {
      "cell_type": "code",
      "metadata": {
        "id": "_9Em0duc6y6Z",
        "colab_type": "code",
        "outputId": "c407fef9-d495-4297-ec57-0bf33ba0456d",
        "colab": {
          "base_uri": "https://localhost:8080/",
          "height": 291
        }
      },
      "source": [
        "sns.set(color_codes=True)\n",
        "ax = sns.regplot(x=\"Lat\", y=\"Mort\", data=my_data)"
      ],
      "execution_count": 5,
      "outputs": [
        {
          "output_type": "display_data",
          "data": {
            "image/png": "[encoded data removed]",
            "text/plain": [
              "<Figure size 432x288 with 1 Axes>"
            ]
          },
          "metadata": {
            "tags": []
          }
        }
      ]
    },
    {
      "cell_type": "code",
      "metadata": {
        "id": "bHKrpLeA1s3g",
        "colab_type": "code",
        "outputId": "30c22e89-7089-4ee0-df7c-22790cec0e6f",
        "colab": {
          "base_uri": "https://localhost:8080/",
          "height": 112
        }
      },
      "source": [
        "aov_table = sm.stats.anova_lm(fitted, typ=2)\n",
        "aov_table"
      ],
      "execution_count": 6,
      "outputs": [
        {
          "output_type": "execute_result",
          "data": {
            "text/html": [
              "<div>\n",
              "<style scoped>\n",
              "    .dataframe tbody tr th:only-of-type {\n",
              "        vertical-align: middle;\n",
              "    }\n",
              "\n",
              "    .dataframe tbody tr th {\n",
              "        vertical-align: top;\n",
              "    }\n",
              "\n",
              "    .dataframe thead th {\n",
              "        text-align: right;\n",
              "    }\n",
              "</style>\n",
              "<table border=\"1\" class=\"dataframe\">\n",
              "  <thead>\n",
              "    <tr style=\"text-align: right;\">\n",
              "      <th></th>\n",
              "      <th>sum_sq</th>\n",
              "      <th>df</th>\n",
              "      <th>F</th>\n",
              "      <th>PR(&gt;F)</th>\n",
              "    </tr>\n",
              "  </thead>\n",
              "  <tbody>\n",
              "    <tr>\n",
              "      <th>Lat</th>\n",
              "      <td>36464.200</td>\n",
              "      <td>1.000</td>\n",
              "      <td>99.797</td>\n",
              "      <td>0.000</td>\n",
              "    </tr>\n",
              "    <tr>\n",
              "      <th>Residual</th>\n",
              "      <td>17173.065</td>\n",
              "      <td>47.000</td>\n",
              "      <td>nan</td>\n",
              "      <td>nan</td>\n",
              "    </tr>\n",
              "  </tbody>\n",
              "</table>\n",
              "</div>"
            ],
            "text/plain": [
              "            sum_sq     df      F  PR(>F)\n",
              "Lat      36464.200  1.000 99.797   0.000\n",
              "Residual 17173.065 47.000    nan     nan"
            ]
          },
          "metadata": {
            "tags": []
          },
          "execution_count": 6
        }
      ]
    },
    {
      "cell_type": "markdown",
      "metadata": {
        "id": "DIeseK4b9cay",
        "colab_type": "text"
      },
      "source": [
        "We are interested in understanding if there is a relationship between the population of all of the latidues and skin cancer mortality rates. <br/>\n",
        "We want to know if $\\beta_1$ is different from 0. We calculate the following statistics:<br/>\n",
        "$b_1 \\pm t_{(\\alpha/2, n-2)} \\times \\left( \\frac{\\sqrt{MSE}}{\\sqrt{\\sum{(x_i - \\bar{x_i})^2}}} \\right)  $"
      ]
    },
    {
      "cell_type": "markdown",
      "metadata": {
        "id": "UkzYHFXN3hl7",
        "colab_type": "text"
      },
      "source": [
        "<p>Looking at what Python gives us we can see that the predictor for `Lat` is -5.9776 (OLS Regression Result under coef). The estimated standard error for $b_1$ is 0.5984 (std err in the same section).<br/>\n",
        "<p>By default, the test statistic is calculated assuming the user wants to test that the slope is 0. Dividing the estimated coefficient -5.9776 by the standard error 0.5984 we obtain the T statistic -9.99 (under t in the OLS).<br/>\n",
        "  <p>The P-value is calculated assuming the alternative hypothesis is a \"two-tailed, not-equal-to\" hypothesis. Then it is calculated the probability that a t-random variable with n-2 = 47 degrees of freedom (see the aov_table below) would be larger than 9.99, and multiplying the probability by 2, Python reports that P is 0.000. This means that the P-value is less than 0.001 (the multiplication by 2 happens because it is a two-tailed test).<br/>\n",
        "<p>Becuse the P-value is small (less than 0.001), we can reject the null hypothesis and conclude that $\\beta_1$ does not equal 0. There is a sufficient evidence, at the $\\alpha = 0.05$ level, to conclude that there is a linear relationship in the population between skin cancer mortality and latitude.<br/><br/>\n",
        " \n",
        "Let's build now a 95% confidence interval for $\\beta_1$\n"
      ]
    },
    {
      "cell_type": "code",
      "metadata": {
        "id": "3i4R2umf7Jgd",
        "colab_type": "code",
        "outputId": "24b3e639-091d-414e-acb3-3eecfebdab88",
        "colab": {
          "base_uri": "https://localhost:8080/",
          "height": 112
        }
      },
      "source": [
        "fitted.conf_int(0.05)   # 95% confidence interval"
      ],
      "execution_count": 7,
      "outputs": [
        {
          "output_type": "execute_result",
          "data": {
            "text/html": [
              "<div>\n",
              "<style scoped>\n",
              "    .dataframe tbody tr th:only-of-type {\n",
              "        vertical-align: middle;\n",
              "    }\n",
              "\n",
              "    .dataframe tbody tr th {\n",
              "        vertical-align: top;\n",
              "    }\n",
              "\n",
              "    .dataframe thead th {\n",
              "        text-align: right;\n",
              "    }\n",
              "</style>\n",
              "<table border=\"1\" class=\"dataframe\">\n",
              "  <thead>\n",
              "    <tr style=\"text-align: right;\">\n",
              "      <th></th>\n",
              "      <th>0</th>\n",
              "      <th>1</th>\n",
              "    </tr>\n",
              "  </thead>\n",
              "  <tbody>\n",
              "    <tr>\n",
              "      <th>Intercept</th>\n",
              "      <td>341.285</td>\n",
              "      <td>437.094</td>\n",
              "    </tr>\n",
              "    <tr>\n",
              "      <th>Lat</th>\n",
              "      <td>-7.181</td>\n",
              "      <td>-4.774</td>\n",
              "    </tr>\n",
              "  </tbody>\n",
              "</table>\n",
              "</div>"
            ],
            "text/plain": [
              "                0       1\n",
              "Intercept 341.285 437.094\n",
              "Lat        -7.181  -4.774"
            ]
          },
          "metadata": {
            "tags": []
          },
          "execution_count": 7
        }
      ]
    },
    {
      "cell_type": "markdown",
      "metadata": {
        "id": "Z0AIpQz67aeN",
        "colab_type": "text"
      },
      "source": [
        "<p>We can be 95% confident that the population slope is between -7.2 and -4.8. That i, we can be 95% confident that for every additional one-degree increase in latitude, the mean skin cancer mortality rate decreases between 4.8 and 7.2 deaths per 10 million people.<br/>\n",
        "  <p>Similar thing can be said for the intercept. In this case it is different from 0 therefore when x=0 the response it is different from 0. Not in all cases this scenario makes sense.<br/>\n",
        " \n",
        "<p>  **Statistical inference conditions**<br/>\n",
        " The above confidence intervals for $\\beta_0 and \\beta_1$ can be used if the *LINE* assumptions hold - linearity, independence, normality and equal variance - "
      ]
    },
    {
      "cell_type": "code",
      "metadata": {
        "id": "agwOWrJFApYO",
        "colab_type": "code",
        "outputId": "bb4b351c-f8d1-4839-c89b-2db153b60f4f",
        "colab": {
          "base_uri": "https://localhost:8080/",
          "height": 206
        }
      },
      "source": [
        "leadcord_url = 'https://raw.githubusercontent.com/ellenne/Regression/master/05.%20In/leadcord.csv'\n",
        "my_data_2 = pd.read_csv(leadcord_url)\n",
        "my_data_2.head()"
      ],
      "execution_count": 8,
      "outputs": [
        {
          "output_type": "execute_result",
          "data": {
            "text/html": [
              "<div>\n",
              "<style scoped>\n",
              "    .dataframe tbody tr th:only-of-type {\n",
              "        vertical-align: middle;\n",
              "    }\n",
              "\n",
              "    .dataframe tbody tr th {\n",
              "        vertical-align: top;\n",
              "    }\n",
              "\n",
              "    .dataframe thead th {\n",
              "        text-align: right;\n",
              "    }\n",
              "</style>\n",
              "<table border=\"1\" class=\"dataframe\">\n",
              "  <thead>\n",
              "    <tr style=\"text-align: right;\">\n",
              "      <th></th>\n",
              "      <th>Month</th>\n",
              "      <th>Year</th>\n",
              "      <th>Sold</th>\n",
              "      <th>Cord</th>\n",
              "    </tr>\n",
              "  </thead>\n",
              "  <tbody>\n",
              "    <tr>\n",
              "      <th>0</th>\n",
              "      <td>3</td>\n",
              "      <td>1980</td>\n",
              "      <td>141</td>\n",
              "      <td>6.400</td>\n",
              "    </tr>\n",
              "    <tr>\n",
              "      <th>1</th>\n",
              "      <td>4</td>\n",
              "      <td>1980</td>\n",
              "      <td>166</td>\n",
              "      <td>6.100</td>\n",
              "    </tr>\n",
              "    <tr>\n",
              "      <th>2</th>\n",
              "      <td>5</td>\n",
              "      <td>1980</td>\n",
              "      <td>161</td>\n",
              "      <td>5.700</td>\n",
              "    </tr>\n",
              "    <tr>\n",
              "      <th>3</th>\n",
              "      <td>6</td>\n",
              "      <td>1980</td>\n",
              "      <td>170</td>\n",
              "      <td>6.900</td>\n",
              "    </tr>\n",
              "    <tr>\n",
              "      <th>4</th>\n",
              "      <td>7</td>\n",
              "      <td>1980</td>\n",
              "      <td>148</td>\n",
              "      <td>7.000</td>\n",
              "    </tr>\n",
              "  </tbody>\n",
              "</table>\n",
              "</div>"
            ],
            "text/plain": [
              "   Month  Year  Sold  Cord\n",
              "0      3  1980   141 6.400\n",
              "1      4  1980   166 6.100\n",
              "2      5  1980   161 5.700\n",
              "3      6  1980   170 6.900\n",
              "4      7  1980   148 7.000"
            ]
          },
          "metadata": {
            "tags": []
          },
          "execution_count": 8
        }
      ]
    },
    {
      "cell_type": "code",
      "metadata": {
        "id": "nLipya_igsSR",
        "colab_type": "code",
        "outputId": "7f7106f4-7229-4139-e8a8-8dbc8308519f",
        "colab": {
          "base_uri": "https://localhost:8080/",
          "height": 482
        }
      },
      "source": [
        "model_2 = smf.ols(formula = 'Cord ~ Sold', data = my_data_2)\n",
        "fitted_2 = model_2.fit()\n",
        "print(fitted_2.summary())"
      ],
      "execution_count": 9,
      "outputs": [
        {
          "output_type": "stream",
          "text": [
            "                            OLS Regression Results                            \n",
            "==============================================================================\n",
            "Dep. Variable:                   Cord   R-squared:                       0.453\n",
            "Model:                            OLS   Adj. R-squared:                  0.408\n",
            "Method:                 Least Squares   F-statistic:                     9.952\n",
            "Date:                Mon, 06 May 2019   Prob (F-statistic):            0.00830\n",
            "Time:                        15:54:33   Log-Likelihood:                -12.007\n",
            "No. Observations:                  14   AIC:                             28.01\n",
            "Df Residuals:                      12   BIC:                             29.29\n",
            "Df Model:                           1                                         \n",
            "Covariance Type:            nonrobust                                         \n",
            "==============================================================================\n",
            "                 coef    std err          t      P>|t|      [0.025      0.975]\n",
            "------------------------------------------------------------------------------\n",
            "Intercept      4.1082      0.609      6.748      0.000       2.782       5.435\n",
            "Sold           0.0149      0.005      3.155      0.008       0.005       0.025\n",
            "==============================================================================\n",
            "Omnibus:                        0.331   Durbin-Watson:                   1.815\n",
            "Prob(Omnibus):                  0.848   Jarque-Bera (JB):                0.469\n",
            "Skew:                           0.146   Prob(JB):                        0.791\n",
            "Kurtosis:                       2.152   Cond. No.                         477.\n",
            "==============================================================================\n",
            "\n",
            "Warnings:\n",
            "[1] Standard Errors assume that the covariance matrix of the errors is correctly specified.\n"
          ],
          "name": "stdout"
        }
      ]
    },
    {
      "cell_type": "code",
      "metadata": {
        "id": "VVHV5O8lhHK4",
        "colab_type": "code",
        "outputId": "0fff15de-2674-46f0-b320-c99826c9e427",
        "colab": {
          "base_uri": "https://localhost:8080/",
          "height": 291
        }
      },
      "source": [
        "ax = sns.regplot(x=\"Sold\", y=\"Cord\", data=my_data_2)"
      ],
      "execution_count": 10,
      "outputs": [
        {
          "output_type": "display_data",
          "data": {
            "image/png": "[encoded data removed]",
            "text/plain": [
              "<Figure size 432x288 with 1 Axes>"
            ]
          },
          "metadata": {
            "tags": []
          }
        }
      ]
    },
    {
      "cell_type": "code",
      "metadata": {
        "id": "vys0QlvXhPpz",
        "colab_type": "code",
        "outputId": "74a8b58f-9294-4257-e123-68a462a3e58b",
        "colab": {
          "base_uri": "https://localhost:8080/",
          "height": 112
        }
      },
      "source": [
        "aov_table_2 = sm.stats.anova_lm(fitted_2, typ=2)\n",
        "aov_table_2"
      ],
      "execution_count": 11,
      "outputs": [
        {
          "output_type": "execute_result",
          "data": {
            "text/html": [
              "<div>\n",
              "<style scoped>\n",
              "    .dataframe tbody tr th:only-of-type {\n",
              "        vertical-align: middle;\n",
              "    }\n",
              "\n",
              "    .dataframe tbody tr th {\n",
              "        vertical-align: top;\n",
              "    }\n",
              "\n",
              "    .dataframe thead th {\n",
              "        text-align: right;\n",
              "    }\n",
              "</style>\n",
              "<table border=\"1\" class=\"dataframe\">\n",
              "  <thead>\n",
              "    <tr style=\"text-align: right;\">\n",
              "      <th></th>\n",
              "      <th>sum_sq</th>\n",
              "      <th>df</th>\n",
              "      <th>F</th>\n",
              "      <th>PR(&gt;F)</th>\n",
              "    </tr>\n",
              "  </thead>\n",
              "  <tbody>\n",
              "    <tr>\n",
              "      <th>Sold</th>\n",
              "      <td>3.778</td>\n",
              "      <td>1.000</td>\n",
              "      <td>9.952</td>\n",
              "      <td>0.008</td>\n",
              "    </tr>\n",
              "    <tr>\n",
              "      <th>Residual</th>\n",
              "      <td>4.556</td>\n",
              "      <td>12.000</td>\n",
              "      <td>nan</td>\n",
              "      <td>nan</td>\n",
              "    </tr>\n",
              "  </tbody>\n",
              "</table>\n",
              "</div>"
            ],
            "text/plain": [
              "          sum_sq     df     F  PR(>F)\n",
              "Sold       3.778  1.000 9.952   0.008\n",
              "Residual   4.556 12.000   nan     nan"
            ]
          },
          "metadata": {
            "tags": []
          },
          "execution_count": 11
        }
      ]
    },
    {
      "cell_type": "markdown",
      "metadata": {
        "id": "IOZjZe3OhnJ_",
        "colab_type": "text"
      },
      "source": [
        "<p>Python reports that the P-value for testing $H_0:\\beta_1=0$ is 0.008. Therefore, since the test statistic is positive, the P.value for testing $H_0:\\beta_1=0$ against the alternative hypothesis $H_A:\\beta_1>0$ is  $0.008 \\div 2 = 0.004$. The P-value is less than 0.05. There is sufficient statistical evidence, at the 0.05 level, to conclude that $\\beta_1>0$ <br/>\n",
        "  <p> If we want to build the confidence interval at 95% for $\\beta_1$ we need to look up the tables of the t distribution (Python will do that for us, but we need to know what is taken into consideration). So we see that the degrees of freedom for the residuals are 12, then we want to build a 95% confidence interval so 5% from 100% and we use the two-tail so 5% / 2 = 2.5% = 0.025 so we will look up t(12, 0.025) = 2.1788. Python gives us directly the confidence interval like that:"
      ]
    },
    {
      "cell_type": "code",
      "metadata": {
        "id": "FC1k7Xbfj4j8",
        "colab_type": "code",
        "outputId": "50239026-3ca0-483f-c1c8-d7e422e34040",
        "colab": {
          "base_uri": "https://localhost:8080/",
          "height": 112
        }
      },
      "source": [
        "fitted_2.conf_int(0.05)"
      ],
      "execution_count": 12,
      "outputs": [
        {
          "output_type": "execute_result",
          "data": {
            "text/html": [
              "<div>\n",
              "<style scoped>\n",
              "    .dataframe tbody tr th:only-of-type {\n",
              "        vertical-align: middle;\n",
              "    }\n",
              "\n",
              "    .dataframe tbody tr th {\n",
              "        vertical-align: top;\n",
              "    }\n",
              "\n",
              "    .dataframe thead th {\n",
              "        text-align: right;\n",
              "    }\n",
              "</style>\n",
              "<table border=\"1\" class=\"dataframe\">\n",
              "  <thead>\n",
              "    <tr style=\"text-align: right;\">\n",
              "      <th></th>\n",
              "      <th>0</th>\n",
              "      <th>1</th>\n",
              "    </tr>\n",
              "  </thead>\n",
              "  <tbody>\n",
              "    <tr>\n",
              "      <th>Intercept</th>\n",
              "      <td>2.782</td>\n",
              "      <td>5.435</td>\n",
              "    </tr>\n",
              "    <tr>\n",
              "      <th>Sold</th>\n",
              "      <td>0.005</td>\n",
              "      <td>0.025</td>\n",
              "    </tr>\n",
              "  </tbody>\n",
              "</table>\n",
              "</div>"
            ],
            "text/plain": [
              "              0     1\n",
              "Intercept 2.782 5.435\n",
              "Sold      0.005 0.025"
            ]
          },
          "metadata": {
            "tags": []
          },
          "execution_count": 12
        }
      ]
    },
    {
      "cell_type": "markdown",
      "metadata": {
        "id": "Ngu1MguEklO_",
        "colab_type": "text"
      },
      "source": [
        "The researchers can be 95% confident that the mean lead concentrations in umbilical-cord blood of Massachussetts babies increases between 0.0046 and 0.0252 $\\mu l/dl$for every one-metric ton increase in monthly gasoline lead sales in Massachusetts. It is up to the researchers to debate whether or not this is a meaningful increase."
      ]
    },
    {
      "cell_type": "code",
      "metadata": {
        "id": "_o7jUxp7tbgT",
        "colab_type": "code",
        "outputId": "c55ed281-b450-428e-b2d1-5bbe3bcf264f",
        "colab": {
          "base_uri": "https://localhost:8080/",
          "height": 291
        }
      },
      "source": [
        "sns.set(color_codes=True)\n",
        "ax = sns.regplot(x=\"Lat\", y=\"Mort\", data=my_data)"
      ],
      "execution_count": 13,
      "outputs": [
        {
          "output_type": "display_data",
          "data": {
            "image/png": "[encoded data removed]",
            "text/plain": [
              "<Figure size 432x288 with 1 Axes>"
            ]
          },
          "metadata": {
            "tags": []
          }
        }
      ]
    },
    {
      "cell_type": "code",
      "metadata": {
        "id": "OwbLpNJAtldH",
        "colab_type": "code",
        "outputId": "b9e79406-a5ca-4416-cb9e-5d67b058ac2a",
        "colab": {
          "base_uri": "https://localhost:8080/",
          "height": 36
        }
      },
      "source": [
        "fitted.ess, fitted.ssr, fitted.ess + fitted.ssr\n",
        "ESS = fitted.ess # Sum of Squares of the Regression\n",
        "SSR = fitted.ssr # Error sum of squares\n",
        "SST = SSR + ESS  # Total sum of squares\n",
        "ESS, SSR, SST"
      ],
      "execution_count": 14,
      "outputs": [
        {
          "output_type": "execute_result",
          "data": {
            "text/plain": [
              "(36464.20020300049, 17173.065103121953, 53637.26530612244)"
            ]
          },
          "metadata": {
            "tags": []
          },
          "execution_count": 14
        }
      ]
    },
    {
      "cell_type": "markdown",
      "metadata": {
        "id": "Oja3XtKGE8sX",
        "colab_type": "text"
      },
      "source": [
        "If there is a linear relationship between mortality and latitude, the estimated regression line should be \"far\" from the no relationship line (that is $y=\\bar{y}$ ).<br/>\n",
        "In order to evaluate this condition let's look at the sum of squares:<br/>\n",
        "$\\displaystyle \\sum_{i=1}^n (\\hat{y} - \\bar{y})^2 = ESS = 36,464 $ *Regression sum of squares*<br/>\n",
        "$\\displaystyle \\sum_{i=1}^n (y_i - \\hat{y})^2 = SSR = 17,173$ *Error sum of squares* <br/>\n",
        "$\\displaystyle \\sum_{i=1}^n (y_i - \\hat{y})^2 = SST = ESS + SSR = 53,637$  *Total sum of squares*<br/>\n",
        "\n",
        "Please note that Python calls Sum of Squares of the Regression what is normally called Error Sum of Squares. Therefore if you want to evaluate how much your fitted are far from the no-relationship line you need to call the function ESS on the predicted and not RSS that instead is the Residual Sum of Squares that is what normally is called Residual Sum of Squares.\n",
        " \n",
        "  <table>\n",
        "    <tr>\n",
        "      <td>**Description**</td><td>**Symbol**</td><td>**The book**</td><td>**Python**</td>      \n",
        "    </tr>\n",
        "    <tr>\n",
        "      <td>Regression Sum of Squares</td><td>SSR</td><td>How far the fitted are from the no relationship line</td><td>ESS</td>      \n",
        "    </tr>\n",
        "    <tr>\n",
        "      <td>Error Sum of Squares</td><td>SSE</td><td>How far the fitted are from the actual</td><td>SSR</td>      \n",
        "    </tr>\n",
        "    <tr>\n",
        "      <td>Total Sum of Squares</td><td>SSTO</td><td>How scattered in latitude are the data</td><td>SSR + ESS</td>      \n",
        "    </tr>\n",
        "    </table><br/>\n",
        "  <p>\n",
        "     Above we have illustrated that the total variation in observed mortality (53,637) is the sum of two parts - variation <u>*\"due to\"* </u> latitude (36,464) and variation just due to random error (17,173). (Note that the \"due to\" is in quote because we want to emphasise that a change in latitude does not necessarily CAUSE the change in mortality but it is **associated with it**) \n",
        "Now let's change the DB and see where we end up"
      ]
    },
    {
      "cell_type": "code",
      "metadata": {
        "id": "UDzfIGRTJgBw",
        "colab_type": "code",
        "colab": {
          "base_uri": "https://localhost:8080/",
          "height": 206
        },
        "outputId": "96f15937-b18e-4418-eb85-19bd2eb88c07"
      },
      "source": [
        "heigtgpa_url = 'https://raw.githubusercontent.com/ellenne/Regression/master/05.%20In/dataheight.csv'\n",
        "my_data_3 = pd.read_csv(heigtgpa_url)\n",
        "my_data_3.head()"
      ],
      "execution_count": 15,
      "outputs": [
        {
          "output_type": "execute_result",
          "data": {
            "text/html": [
              "<div>\n",
              "<style scoped>\n",
              "    .dataframe tbody tr th:only-of-type {\n",
              "        vertical-align: middle;\n",
              "    }\n",
              "\n",
              "    .dataframe tbody tr th {\n",
              "        vertical-align: top;\n",
              "    }\n",
              "\n",
              "    .dataframe thead th {\n",
              "        text-align: right;\n",
              "    }\n",
              "</style>\n",
              "<table border=\"1\" class=\"dataframe\">\n",
              "  <thead>\n",
              "    <tr style=\"text-align: right;\">\n",
              "      <th></th>\n",
              "      <th>height</th>\n",
              "      <th>gpa</th>\n",
              "    </tr>\n",
              "  </thead>\n",
              "  <tbody>\n",
              "    <tr>\n",
              "      <th>0</th>\n",
              "      <td>66.000</td>\n",
              "      <td>2.900</td>\n",
              "    </tr>\n",
              "    <tr>\n",
              "      <th>1</th>\n",
              "      <td>57.000</td>\n",
              "      <td>3.160</td>\n",
              "    </tr>\n",
              "    <tr>\n",
              "      <th>2</th>\n",
              "      <td>64.500</td>\n",
              "      <td>3.620</td>\n",
              "    </tr>\n",
              "    <tr>\n",
              "      <th>3</th>\n",
              "      <td>62.000</td>\n",
              "      <td>2.000</td>\n",
              "    </tr>\n",
              "    <tr>\n",
              "      <th>4</th>\n",
              "      <td>69.500</td>\n",
              "      <td>3.450</td>\n",
              "    </tr>\n",
              "  </tbody>\n",
              "</table>\n",
              "</div>"
            ],
            "text/plain": [
              "   height   gpa\n",
              "0  66.000 2.900\n",
              "1  57.000 3.160\n",
              "2  64.500 3.620\n",
              "3  62.000 2.000\n",
              "4  69.500 3.450"
            ]
          },
          "metadata": {
            "tags": []
          },
          "execution_count": 15
        }
      ]
    },
    {
      "cell_type": "code",
      "metadata": {
        "id": "2A8NW0puPQW3",
        "colab_type": "code",
        "colab": {
          "base_uri": "https://localhost:8080/",
          "height": 519
        },
        "outputId": "b8c97f8a-446d-49bb-e342-673257d3309d"
      },
      "source": [
        "model_3 = smf.ols(formula = 'gpa ~ height', data = my_data_3)\n",
        "fitted_3 = model_3.fit()\n",
        "print(fitted_3.summary())"
      ],
      "execution_count": 16,
      "outputs": [
        {
          "output_type": "stream",
          "text": [
            "                            OLS Regression Results                            \n",
            "==============================================================================\n",
            "Dep. Variable:                    gpa   R-squared:                       0.003\n",
            "Model:                            OLS   Adj. R-squared:                 -0.027\n",
            "Method:                 Least Squares   F-statistic:                   0.09381\n",
            "Date:                Mon, 06 May 2019   Prob (F-statistic):              0.761\n",
            "Time:                        15:54:34   Log-Likelihood:                -27.216\n",
            "No. Observations:                  35   AIC:                             58.43\n",
            "Df Residuals:                      33   BIC:                             61.54\n",
            "Df Model:                           1                                         \n",
            "Covariance Type:            nonrobust                                         \n",
            "==============================================================================\n",
            "                 coef    std err          t      P>|t|      [0.025      0.975]\n",
            "------------------------------------------------------------------------------\n",
            "Intercept      3.4102      1.435      2.377      0.023       0.491       6.329\n",
            "height        -0.0066      0.021     -0.306      0.761      -0.050       0.037\n",
            "==============================================================================\n",
            "Omnibus:                        4.559   Durbin-Watson:                   2.149\n",
            "Prob(Omnibus):                  0.102   Jarque-Bera (JB):                3.349\n",
            "Skew:                          -0.736   Prob(JB):                        0.187\n",
            "Kurtosis:                       3.357   Cond. No.                     1.05e+03\n",
            "==============================================================================\n",
            "\n",
            "Warnings:\n",
            "[1] Standard Errors assume that the covariance matrix of the errors is correctly specified.\n",
            "[2] The condition number is large, 1.05e+03. This might indicate that there are\n",
            "strong multicollinearity or other numerical problems.\n"
          ],
          "name": "stdout"
        }
      ]
    },
    {
      "cell_type": "code",
      "metadata": {
        "id": "HE7CXSRuPek6",
        "colab_type": "code",
        "colab": {
          "base_uri": "https://localhost:8080/",
          "height": 291
        },
        "outputId": "02d4a0cc-b55d-4693-a287-41a060ea39eb"
      },
      "source": [
        "ax = sns.regplot(x='height', y='gpa', data=my_data_3)\n",
        "plt.show()"
      ],
      "execution_count": 17,
      "outputs": [
        {
          "output_type": "display_data",
          "data": {
            "image/png": "[encoded data removed]",
            "text/plain": [
              "<Figure size 432x288 with 1 Axes>"
            ]
          },
          "metadata": {
            "tags": []
          }
        }
      ]
    },
    {
      "cell_type": "markdown",
      "metadata": {
        "id": "2dqC9bvIP2B7",
        "colab_type": "text"
      },
      "source": [
        "From the p-value of the predictor `height` that is `0.761` we can understand that it is not enough to reject the null hypothesis $H_0$.<br/>\n",
        "Let's look at the F test:"
      ]
    },
    {
      "cell_type": "code",
      "metadata": {
        "id": "9tBBqNn_QQPO",
        "colab_type": "code",
        "colab": {
          "base_uri": "https://localhost:8080/",
          "height": 112
        },
        "outputId": "64fa2dd1-5e14-4020-91a2-49298b8d000d"
      },
      "source": [
        "aov_table_3 = sm.stats.anova_lm(fitted_3, typ=2)\n",
        "aov_table_3"
      ],
      "execution_count": 18,
      "outputs": [
        {
          "output_type": "execute_result",
          "data": {
            "text/html": [
              "<div>\n",
              "<style scoped>\n",
              "    .dataframe tbody tr th:only-of-type {\n",
              "        vertical-align: middle;\n",
              "    }\n",
              "\n",
              "    .dataframe tbody tr th {\n",
              "        vertical-align: top;\n",
              "    }\n",
              "\n",
              "    .dataframe thead th {\n",
              "        text-align: right;\n",
              "    }\n",
              "</style>\n",
              "<table border=\"1\" class=\"dataframe\">\n",
              "  <thead>\n",
              "    <tr style=\"text-align: right;\">\n",
              "      <th></th>\n",
              "      <th>sum_sq</th>\n",
              "      <th>df</th>\n",
              "      <th>F</th>\n",
              "      <th>PR(&gt;F)</th>\n",
              "    </tr>\n",
              "  </thead>\n",
              "  <tbody>\n",
              "    <tr>\n",
              "      <th>height</th>\n",
              "      <td>0.028</td>\n",
              "      <td>1.000</td>\n",
              "      <td>0.094</td>\n",
              "      <td>0.761</td>\n",
              "    </tr>\n",
              "    <tr>\n",
              "      <th>Residual</th>\n",
              "      <td>9.706</td>\n",
              "      <td>33.000</td>\n",
              "      <td>nan</td>\n",
              "      <td>nan</td>\n",
              "    </tr>\n",
              "  </tbody>\n",
              "</table>\n",
              "</div>"
            ],
            "text/plain": [
              "          sum_sq     df     F  PR(>F)\n",
              "height     0.028  1.000 0.094   0.761\n",
              "Residual   9.706 33.000   nan     nan"
            ]
          },
          "metadata": {
            "tags": []
          },
          "execution_count": 18
        }
      ]
    },
    {
      "cell_type": "markdown",
      "metadata": {
        "id": "F3piADDlQdbt",
        "colab_type": "text"
      },
      "source": [
        "Let's look the matter from the point of view of the sum of squares. <br/>\n",
        "Let's remember the definitions given above: \n",
        "<ul>\n",
        "  <li>Sum of Squares of the Residuals SSR: tells us how far is the regression to the no relationship line</li>\n",
        "  <li>Error Sum of Squares ESS: tells us how far the data points are far from the estimated regression line</li>\n",
        "  <li>Total Sum of Squares SST: tells us how much the data points vary on the x axis (so not considering the y axis - latitude) </li>"
      ]
    },
    {
      "cell_type": "code",
      "metadata": {
        "id": "oPo7h96LSGOU",
        "colab_type": "code",
        "colab": {
          "base_uri": "https://localhost:8080/",
          "height": 36
        },
        "outputId": "947cc0dd-2972-4249-f47f-f0492387e127"
      },
      "source": [
        "SSE = fitted_3.ssr\n",
        "SSR = fitted_3.ess\n",
        "SSE, SSR"
      ],
      "execution_count": 19,
      "outputs": [
        {
          "output_type": "execute_result",
          "data": {
            "text/plain": [
              "(9.70550739662786, 0.02758974622928001)"
            ]
          },
          "metadata": {
            "tags": []
          },
          "execution_count": 19
        }
      ]
    },
    {
      "cell_type": "code",
      "metadata": {
        "id": "7ezLpfUzTn89",
        "colab_type": "code",
        "colab": {
          "base_uri": "https://localhost:8080/",
          "height": 248
        },
        "outputId": "081c898d-6ed2-4f3c-cdc9-7b97b97b528a"
      },
      "source": [
        "calc = pd.DataFrame()\n",
        "\n",
        "avgHeight = my_data_3['gpa'].mean()\n",
        "y_bar = [avgHeight for n in range(my_data_3.shape[0])]\n",
        "y_hat = fitted_3.predict(my_data_3['height'])\n",
        "\n",
        "\n",
        "SSR = (y_hat - y_bar) ** 2\n",
        "\n",
        "calc['y_hat'] = y_hat\n",
        "calc['y_bar'] = y_i\n",
        "calc['SSR'] = SSR\n",
        "\n",
        "sum(calc['SSR']), fitted_3.ess"
      ],
      "execution_count": 20,
      "outputs": [
        {
          "output_type": "error",
          "ename": "NameError",
          "evalue": "ignored",
          "traceback": [
            "\u001b[0;31m---------------------------------------------------------------------------\u001b[0m",
            "\u001b[0;31mNameError\u001b[0m                                 Traceback (most recent call last)",
            "\u001b[0;32m<ipython-input-20-c96058f60801>\u001b[0m in \u001b[0;36m<module>\u001b[0;34m()\u001b[0m\n\u001b[1;32m      9\u001b[0m \u001b[0;34m\u001b[0m\u001b[0m\n\u001b[1;32m     10\u001b[0m \u001b[0mcalc\u001b[0m\u001b[0;34m[\u001b[0m\u001b[0;34m'y_hat'\u001b[0m\u001b[0;34m]\u001b[0m \u001b[0;34m=\u001b[0m \u001b[0my_hat\u001b[0m\u001b[0;34m\u001b[0m\u001b[0;34m\u001b[0m\u001b[0m\n\u001b[0;32m---> 11\u001b[0;31m \u001b[0mcalc\u001b[0m\u001b[0;34m[\u001b[0m\u001b[0;34m'y_bar'\u001b[0m\u001b[0;34m]\u001b[0m \u001b[0;34m=\u001b[0m \u001b[0my_i\u001b[0m\u001b[0;34m\u001b[0m\u001b[0;34m\u001b[0m\u001b[0m\n\u001b[0m\u001b[1;32m     12\u001b[0m \u001b[0mcalc\u001b[0m\u001b[0;34m[\u001b[0m\u001b[0;34m'SSR'\u001b[0m\u001b[0;34m]\u001b[0m \u001b[0;34m=\u001b[0m \u001b[0mSSR\u001b[0m\u001b[0;34m\u001b[0m\u001b[0;34m\u001b[0m\u001b[0m\n\u001b[1;32m     13\u001b[0m \u001b[0;34m\u001b[0m\u001b[0m\n",
            "\u001b[0;31mNameError\u001b[0m: name 'y_i' is not defined"
          ]
        }
      ]
    },
    {
      "cell_type": "markdown",
      "metadata": {
        "id": "pDCO6MPsy9G_",
        "colab_type": "text"
      },
      "source": [
        "Why do we care about Sum of Squares? Because it tells us about the null hypothesis and the alternative hypothesis.<br/>\n",
        "We defined SSR (sum of squares of the regression) that in Python is `fitted.ess` then we have the SSE (sum of squares of the error) that in Python is `fitted.ssr`. SSR tells us how much variation there is between the SS of the predicted values($\\hat{y}$) and average output ($\\bar{y}$) while the SSE tells us how much the variation is due to a random error. Therefore is SSR is big enough then SSE we can say that there is a linear relationship. <br/>\n",
        "How can we quantify this big enough? We can consider other 2 quantities taking into consideration the degrees of freedom. We do:<br/>\n",
        "<p>$MSR = \\frac{SSR}{1}$ <br/>\n",
        "<p>$MSE = \\frac{SSE}{n-2}$<br/>\n",
        "<p>$F^* = \\frac{MSR}{MSE}$<br/>\n",
        "  If F is big enough we can be sure that there is a linear relationship.<br/>\n",
        "  \n",
        "  To add more theory we need to consider that if we tkae many random samples of size n from some population, and estimate the regression line determining MSR and MSE for each dataset the average MSRs will be :<br/>\n",
        "  \n",
        " $E(MSR) = \\sigma^2 + \\beta_1^2 \\sum_{i=1}^n (X_i - \\bar{X})^2 $ <br/>\n",
        "  \n",
        "  Similarly we have : <br/>\n",
        "  \n",
        "  $E(MSE) = \\sigma^2$ (*population variance*)<br/>"
      ]
    },
    {
      "cell_type": "code",
      "metadata": {
        "id": "WsFS2XPT2dNv",
        "colab_type": "code",
        "colab": {
          "base_uri": "https://localhost:8080/",
          "height": 129
        },
        "outputId": "a24f090b-34ec-4c1f-b676-f36753fc2aca"
      },
      "source": [
        "SSR = fitted.ess\n",
        "SSE = fitted.ssr\n",
        "n = my_data.shape[0]\n",
        "# it seems stupid to write 1 but it is my way to remember that I am \n",
        "# estimating one parameter only\n",
        "MSR = SSR / 1 \n",
        "MSE = SSE / (n-2) # there are 2 parameters that have been estimated\n",
        "F = MSR / MSE\n",
        "n, SSR, SSE, MSR, MSE, F"
      ],
      "execution_count": 23,
      "outputs": [
        {
          "output_type": "execute_result",
          "data": {
            "text/plain": [
              "(49,\n",
              " 36464.20020300049,\n",
              " 17173.065103121953,\n",
              " 36464.20020300049,\n",
              " 365.38436389621177,\n",
              " 99.79682713888168)"
            ]
          },
          "metadata": {
            "tags": []
          },
          "execution_count": 23
        }
      ]
    },
    {
      "cell_type": "code",
      "metadata": {
        "id": "HAMDnPEV3OR2",
        "colab_type": "code",
        "colab": {
          "base_uri": "https://localhost:8080/",
          "height": 112
        },
        "outputId": "969e4b0b-0200-4620-eda0-7d4a25e5cb4e"
      },
      "source": [
        "aov_table"
      ],
      "execution_count": 22,
      "outputs": [
        {
          "output_type": "execute_result",
          "data": {
            "text/html": [
              "<div>\n",
              "<style scoped>\n",
              "    .dataframe tbody tr th:only-of-type {\n",
              "        vertical-align: middle;\n",
              "    }\n",
              "\n",
              "    .dataframe tbody tr th {\n",
              "        vertical-align: top;\n",
              "    }\n",
              "\n",
              "    .dataframe thead th {\n",
              "        text-align: right;\n",
              "    }\n",
              "</style>\n",
              "<table border=\"1\" class=\"dataframe\">\n",
              "  <thead>\n",
              "    <tr style=\"text-align: right;\">\n",
              "      <th></th>\n",
              "      <th>sum_sq</th>\n",
              "      <th>df</th>\n",
              "      <th>F</th>\n",
              "      <th>PR(&gt;F)</th>\n",
              "    </tr>\n",
              "  </thead>\n",
              "  <tbody>\n",
              "    <tr>\n",
              "      <th>Lat</th>\n",
              "      <td>36464.200</td>\n",
              "      <td>1.000</td>\n",
              "      <td>99.797</td>\n",
              "      <td>0.000</td>\n",
              "    </tr>\n",
              "    <tr>\n",
              "      <th>Residual</th>\n",
              "      <td>17173.065</td>\n",
              "      <td>47.000</td>\n",
              "      <td>nan</td>\n",
              "      <td>nan</td>\n",
              "    </tr>\n",
              "  </tbody>\n",
              "</table>\n",
              "</div>"
            ],
            "text/plain": [
              "            sum_sq     df      F  PR(>F)\n",
              "Lat      36464.200  1.000 99.797   0.000\n",
              "Residual 17173.065 47.000    nan     nan"
            ]
          },
          "metadata": {
            "tags": []
          },
          "execution_count": 22
        }
      ]
    },
    {
      "cell_type": "markdown",
      "metadata": {
        "id": "o4uGYXZS4ahY",
        "colab_type": "text"
      },
      "source": [
        "Looking at the table above the meaning of the P-value PR(>F) is:<br>\n",
        "*What is the probability that we'd get an $F^*$ statistic as large as we did, if the null hyphothesis ($H_0: \\beta_1 = 0$) is true?*"
      ]
    },
    {
      "cell_type": "code",
      "metadata": {
        "id": "TXNUdj3o5ji6",
        "colab_type": "code",
        "colab": {
          "base_uri": "https://localhost:8080/",
          "height": 206
        },
        "outputId": "dbe70650-f135-4528-9513-ad9a8aa02d51"
      },
      "source": [
        "mens200m = 'https://raw.githubusercontent.com/ellenne/Regression/master/05.%20In/mens200m.csv'\n",
        "my_data_4 = pd.read_csv(mens200m)\n",
        "my_data_4.head()"
      ],
      "execution_count": 26,
      "outputs": [
        {
          "output_type": "execute_result",
          "data": {
            "text/html": [
              "<div>\n",
              "<style scoped>\n",
              "    .dataframe tbody tr th:only-of-type {\n",
              "        vertical-align: middle;\n",
              "    }\n",
              "\n",
              "    .dataframe tbody tr th {\n",
              "        vertical-align: top;\n",
              "    }\n",
              "\n",
              "    .dataframe thead th {\n",
              "        text-align: right;\n",
              "    }\n",
              "</style>\n",
              "<table border=\"1\" class=\"dataframe\">\n",
              "  <thead>\n",
              "    <tr style=\"text-align: right;\">\n",
              "      <th></th>\n",
              "      <th>Year</th>\n",
              "      <th>Men200m</th>\n",
              "    </tr>\n",
              "  </thead>\n",
              "  <tbody>\n",
              "    <tr>\n",
              "      <th>0</th>\n",
              "      <td>1900</td>\n",
              "      <td>22.200</td>\n",
              "    </tr>\n",
              "    <tr>\n",
              "      <th>1</th>\n",
              "      <td>1904</td>\n",
              "      <td>21.600</td>\n",
              "    </tr>\n",
              "    <tr>\n",
              "      <th>2</th>\n",
              "      <td>1908</td>\n",
              "      <td>22.600</td>\n",
              "    </tr>\n",
              "    <tr>\n",
              "      <th>3</th>\n",
              "      <td>1912</td>\n",
              "      <td>21.700</td>\n",
              "    </tr>\n",
              "    <tr>\n",
              "      <th>4</th>\n",
              "      <td>1920</td>\n",
              "      <td>22.000</td>\n",
              "    </tr>\n",
              "  </tbody>\n",
              "</table>\n",
              "</div>"
            ],
            "text/plain": [
              "   Year  Men200m\n",
              "0  1900   22.200\n",
              "1  1904   21.600\n",
              "2  1908   22.600\n",
              "3  1912   21.700\n",
              "4  1920   22.000"
            ]
          },
          "metadata": {
            "tags": []
          },
          "execution_count": 26
        }
      ]
    },
    {
      "cell_type": "code",
      "metadata": {
        "id": "zSem9LdY5ujv",
        "colab_type": "code",
        "colab": {
          "base_uri": "https://localhost:8080/",
          "height": 519
        },
        "outputId": "7c7d4a93-b717-4418-8dee-c43da28a0f64"
      },
      "source": [
        "model_4 = smf.ols(formula = 'Men200m ~ Year', data=my_data_4)\n",
        "fitted_4 = model_4.fit()\n",
        "print(fitted_4.summary())"
      ],
      "execution_count": 28,
      "outputs": [
        {
          "output_type": "stream",
          "text": [
            "                            OLS Regression Results                            \n",
            "==============================================================================\n",
            "Dep. Variable:                Men200m   R-squared:                       0.899\n",
            "Model:                            OLS   Adj. R-squared:                  0.894\n",
            "Method:                 Least Squares   F-statistic:                     177.7\n",
            "Date:                Mon, 06 May 2019   Prob (F-statistic):           2.07e-11\n",
            "Time:                        16:09:49   Log-Likelihood:                -3.5436\n",
            "No. Observations:                  22   AIC:                             11.09\n",
            "Df Residuals:                      20   BIC:                             13.27\n",
            "Df Model:                           1                                         \n",
            "Covariance Type:            nonrobust                                         \n",
            "==============================================================================\n",
            "                 coef    std err          t      P>|t|      [0.025      0.975]\n",
            "------------------------------------------------------------------------------\n",
            "Intercept     76.1534      4.152     18.340      0.000      67.492      84.815\n",
            "Year          -0.0284      0.002    -13.331      0.000      -0.033      -0.024\n",
            "==============================================================================\n",
            "Omnibus:                        0.013   Durbin-Watson:                   2.509\n",
            "Prob(Omnibus):                  0.993   Jarque-Bera (JB):                0.128\n",
            "Skew:                           0.037   Prob(JB):                        0.938\n",
            "Kurtosis:                       2.634   Cond. No.                     1.27e+05\n",
            "==============================================================================\n",
            "\n",
            "Warnings:\n",
            "[1] Standard Errors assume that the covariance matrix of the errors is correctly specified.\n",
            "[2] The condition number is large, 1.27e+05. This might indicate that there are\n",
            "strong multicollinearity or other numerical problems.\n"
          ],
          "name": "stdout"
        }
      ]
    },
    {
      "cell_type": "code",
      "metadata": {
        "id": "-SdEpaaS6NRR",
        "colab_type": "code",
        "colab": {}
      },
      "source": [
        "def BuildModel (my_data, form):\n",
        "  y_var = form.split(\"~\")[0]\n",
        "  x_var = form.split(\"~\")[1]\n",
        "  model = smf.ols(formula = form, data=my_data)\n",
        "  fitted = model.fit()\n",
        "  aov_table = sm.stats.anova_lm(fitted, typ=2)\n",
        "  print(fitted.summary())\n",
        "  print(aov_table)\n",
        "  ax = sns.regplot(x='height', y='gpa', data=my_data_3)\n",
        "  plt.show()\n",
        "  \n",
        "  return model, fitted, aov_table\n",
        "  "
      ],
      "execution_count": 0,
      "outputs": []
    },
    {
      "cell_type": "code",
      "metadata": {
        "id": "B955DeTn7piS",
        "colab_type": "code",
        "colab": {
          "base_uri": "https://localhost:8080/",
          "height": 812
        },
        "outputId": "9c913e80-ccc7-4d0c-9a47-29bf7312ef8e"
      },
      "source": [
        "model_4, fitted_4, aov_table_4 = BuildModel(my_data_4, 'Year~Men200m')"
      ],
      "execution_count": 35,
      "outputs": [
        {
          "output_type": "stream",
          "text": [
            "                            OLS Regression Results                            \n",
            "==============================================================================\n",
            "Dep. Variable:                   Year   R-squared:                       0.899\n",
            "Model:                            OLS   Adj. R-squared:                  0.894\n",
            "Method:                 Least Squares   F-statistic:                     177.7\n",
            "Date:                Mon, 06 May 2019   Prob (F-statistic):           2.07e-11\n",
            "Time:                        16:17:53   Log-Likelihood:                -80.734\n",
            "No. Observations:                  22   AIC:                             165.5\n",
            "Df Residuals:                      20   BIC:                             167.6\n",
            "Df Model:                           1                                         \n",
            "Covariance Type:            nonrobust                                         \n",
            "==============================================================================\n",
            "                 coef    std err          t      P>|t|      [0.025      0.975]\n",
            "------------------------------------------------------------------------------\n",
            "Intercept   2608.8844     49.470     52.737      0.000    2505.692    2712.077\n",
            "Men200m      -31.6681      2.375    -13.331      0.000     -36.623     -26.713\n",
            "==============================================================================\n",
            "Omnibus:                        0.616   Durbin-Watson:                   2.282\n",
            "Prob(Omnibus):                  0.735   Jarque-Bera (JB):                0.516\n",
            "Skew:                          -0.337   Prob(JB):                        0.773\n",
            "Kurtosis:                       2.669   Cond. No.                         486.\n",
            "==============================================================================\n",
            "\n",
            "Warnings:\n",
            "[1] Standard Errors assume that the covariance matrix of the errors is correctly specified.\n",
            "            sum_sq     df       F  PR(>F)\n",
            "Men200m  17624.585  1.000 177.720   0.000\n",
            "Residual  1983.415 20.000     nan     nan\n"
          ],
          "name": "stdout"
        },
        {
          "output_type": "display_data",
          "data": {
            "image/png": "[encoded data removed]",
            "text/plain": [
              "<Figure size 432x288 with 1 Axes>"
            ]
          },
          "metadata": {
            "tags": []
          }
        }
      ]
    }
  ]
}